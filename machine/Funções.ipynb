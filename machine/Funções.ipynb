{
 "cells": [
  {
   "cell_type": "code",
   "execution_count": 5,
   "metadata": {
    "ExecuteTime": {
     "end_time": "2021-02-12T23:04:36.519116Z",
     "start_time": "2021-02-12T23:04:36.501128Z"
    }
   },
   "outputs": [
    {
     "name": "stdout",
     "output_type": "stream",
     "text": [
      "Fulano tem 18 anos, função: gerente\n"
     ]
    }
   ],
   "source": [
    "def pessoal(nome, idade = 18, funcao = 'técnico'):\n",
    "    print(f'{nome} tem {idade} anos, função: {funcao}')\n",
    "\n",
    "p1 = pessoal('Fulano', funcao = 'gerente')"
   ]
  },
  {
   "cell_type": "code",
   "execution_count": 6,
   "metadata": {
    "ExecuteTime": {
     "end_time": "2021-02-12T23:10:44.834887Z",
     "start_time": "2021-02-12T23:10:44.828889Z"
    }
   },
   "outputs": [
    {
     "name": "stdout",
     "output_type": "stream",
     "text": [
      "(nome) = ()\n",
      "(nome) = ('idade = 33', 'profissão = professor')\n"
     ]
    }
   ],
   "source": [
    "def msg(nome, *args):\n",
    "    print(f'(nome) = {args}')\n",
    "    \n",
    "ex1 = msg('Fulano de Tal')\n",
    "ex2 = msg('Fulano de Tal', 'idade = 33', 'profissão = professor')"
   ]
  },
  {
   "cell_type": "code",
   "execution_count": 10,
   "metadata": {
    "ExecuteTime": {
     "end_time": "2021-02-12T23:25:10.241506Z",
     "start_time": "2021-02-12T23:25:10.233512Z"
    }
   },
   "outputs": [
    {
     "name": "stdout",
     "output_type": "stream",
     "text": [
      "(33, 1987, 2020, 19.9, 100000000)\n",
      "{'Nome': 'Fulano de Tal', 'Profissão': 'Engenheiro'}\n"
     ]
    }
   ],
   "source": [
    "numeros = (33,1987,2020,19.90,100000000)\n",
    "dados = {'Nome': 'Fulano de Tal', 'Profissão': 'Engenheiro'}\n",
    "\n",
    "def identificacao(*args, **kwargs):\n",
    "    print(args)\n",
    "    print(kwargs)\n",
    "    \n",
    "identificacao(*numeros,**dados)"
   ]
  },
  {
   "cell_type": "code",
   "execution_count": 3,
   "metadata": {
    "ExecuteTime": {
     "end_time": "2021-02-13T23:58:46.278723Z",
     "start_time": "2021-02-13T23:58:46.272724Z"
    }
   },
   "outputs": [
    {
     "name": "stdout",
     "output_type": "stream",
     "text": [
      "0\n",
      "1\n",
      "2\n",
      "3\n",
      "4\n",
      "5\n"
     ]
    }
   ],
   "source": [
    "import sys\n",
    "\n",
    "def gera_numero():\n",
    "    numero = 0\n",
    "    while True:\n",
    "        yield numero\n",
    "        numero += 1\n",
    "gerador = gera_numero()\n",
    "\n",
    "print(next(gerador))\n",
    "print(next(gerador))\n",
    "print(next(gerador))\n",
    "print(next(gerador))\n",
    "print(next(gerador))\n",
    "print(next(gerador))"
   ]
  },
  {
   "cell_type": "code",
   "execution_count": 6,
   "metadata": {
    "ExecuteTime": {
     "end_time": "2021-02-14T00:53:54.159210Z",
     "start_time": "2021-02-14T00:53:54.149218Z"
    }
   },
   "outputs": [
    {
     "name": "stdout",
     "output_type": "stream",
     "text": [
      "employee1:John,Msaki,25,Male,Security,Cleveland, Ohio\n",
      "employee2:George,Laurie,25,Male,Messenger,San Francisco, California\n",
      "employee3:Rowan,Bean,67,Female,Receptionist,London, UK\n",
      "employee4:Ford,Harrison,53,Male,Manager,New york, New York\n",
      "employee5:Roberta,Meyers,36,Female,ChiefFinancial Officer,Princeton, New Jersey\n"
     ]
    }
   ],
   "source": [
    "firstName = [\"John\",\"George\",\"Rowan\", \"Ford\", \"Roberta\"]\n",
    "lastName = [\"Msaki\", \"Laurie\", \"Bean\",\"Harrison\",\"Meyers\"]\n",
    "age = [25,25,67,53,36]\n",
    "gender = [\"Male\",\"Male\",\"Female\",\"Male\",\"Female\"]\n",
    "position = [\"Security\",\"Messenger\",\"Receptionist\",\"Manager\",\"ChiefFinancial Officer\"]\n",
    "location = [\"Cleveland, Ohio\",\"San Francisco, California\", \"London, UK\",\"New york, New York\", \"Princeton, New Jersey\"]\n",
    "\n",
    "employees ={}\n",
    "\n",
    "for i in range(1,6):\n",
    "    employees[\"employee\"+str(i)] = {\n",
    "        \"firstName\":firstName[i-1],\n",
    "        \"lastName\":lastName[i-1],\n",
    "        \"age\":age[i-1],\n",
    "        \"gender\":gender[i-1],\n",
    "        \"position\":position[i-1],\n",
    "        \"location\":location[i-1]\n",
    "    }\n",
    "    \n",
    "for i in range(1,6):\n",
    "    x = \"employee\" + str(i)\n",
    "    print(\n",
    "        x+\":\"+\n",
    "        employees[x][\"firstName\"]+\",\"+\n",
    "        employees[x][\"lastName\"]+\",\"+\n",
    "        str(employees[x][\"age\"])+\",\"+\n",
    "        employees[x][\"gender\"]+\",\"+\n",
    "        employees[x][\"position\"]+\",\"+\n",
    "        employees[x][\"location\"]\n",
    "    )"
   ]
  },
  {
   "cell_type": "code",
   "execution_count": 5,
   "metadata": {
    "ExecuteTime": {
     "end_time": "2021-02-19T00:20:30.555228Z",
     "start_time": "2021-02-19T00:20:30.550231Z"
    }
   },
   "outputs": [
    {
     "data": {
      "text/plain": [
       "25"
      ]
     },
     "execution_count": 5,
     "metadata": {},
     "output_type": "execute_result"
    }
   ],
   "source": [
    "#Função Lambda\n",
    "\n",
    "quad: lambda x: x*x\n",
    "quad(5)\n"
   ]
  },
  {
   "cell_type": "code",
   "execution_count": 8,
   "metadata": {
    "ExecuteTime": {
     "end_time": "2021-02-19T00:33:47.023299Z",
     "start_time": "2021-02-19T00:33:47.014305Z"
    }
   },
   "outputs": [
    {
     "name": "stdout",
     "output_type": "stream",
     "text": [
      "Sum with f becomes 6\n",
      "Sum with g becomes 14\n"
     ]
    }
   ],
   "source": [
    "def f(x): \n",
    "    return x\n",
    "\n",
    "def g(x): \n",
    "    return x**2\n",
    "\n",
    "def sum_function_values(f, start, stop):\n",
    "    S=0\n",
    "    for i in range(start, stop+1,1):\n",
    "        S = S + f(i)\n",
    "    return S\n",
    "\n",
    "print('Sum with f becomes {:g}'.format(sum_function_values(f,1,3)))\n",
    "print('Sum with g becomes {:g}'.format(sum_function_values(g,1,3)))\n",
    "        "
   ]
  },
  {
   "cell_type": "code",
   "execution_count": 9,
   "metadata": {
    "ExecuteTime": {
     "end_time": "2021-02-19T00:35:36.505493Z",
     "start_time": "2021-02-19T00:35:36.500497Z"
    }
   },
   "outputs": [
    {
     "name": "stdout",
     "output_type": "stream",
     "text": [
      "6\n",
      "14\n"
     ]
    }
   ],
   "source": [
    "print(sum_function_values(lambda x:x,1,3))\n",
    "print(sum_function_values(lambda x:x**2,1,3))\n",
    "\n"
   ]
  },
  {
   "cell_type": "code",
   "execution_count": null,
   "metadata": {},
   "outputs": [],
   "source": []
  }
 ],
 "metadata": {
  "kernelspec": {
   "display_name": "Python 3",
   "language": "python",
   "name": "python3"
  },
  "language_info": {
   "codemirror_mode": {
    "name": "ipython",
    "version": 3
   },
   "file_extension": ".py",
   "mimetype": "text/x-python",
   "name": "python",
   "nbconvert_exporter": "python",
   "pygments_lexer": "ipython3",
   "version": "3.8.5"
  }
 },
 "nbformat": 4,
 "nbformat_minor": 4
}

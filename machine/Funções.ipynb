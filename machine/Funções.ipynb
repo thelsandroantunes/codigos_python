{
 "cells": [
  {
   "cell_type": "code",
   "execution_count": 5,
   "metadata": {
    "ExecuteTime": {
     "end_time": "2021-02-12T23:04:36.519116Z",
     "start_time": "2021-02-12T23:04:36.501128Z"
    }
   },
   "outputs": [
    {
     "name": "stdout",
     "output_type": "stream",
     "text": [
      "Fulano tem 18 anos, função: gerente\n"
     ]
    }
   ],
   "source": [
    "def pessoal(nome, idade = 18, funcao = 'técnico'):\n",
    "    print(f'{nome} tem {idade} anos, função: {funcao}')\n",
    "\n",
    "p1 = pessoal('Fulano', funcao = 'gerente')"
   ]
  },
  {
   "cell_type": "code",
   "execution_count": 6,
   "metadata": {
    "ExecuteTime": {
     "end_time": "2021-02-12T23:10:44.834887Z",
     "start_time": "2021-02-12T23:10:44.828889Z"
    }
   },
   "outputs": [
    {
     "name": "stdout",
     "output_type": "stream",
     "text": [
      "(nome) = ()\n",
      "(nome) = ('idade = 33', 'profissão = professor')\n"
     ]
    }
   ],
   "source": [
    "def msg(nome, *args):\n",
    "    print(f'(nome) = {args}')\n",
    "    \n",
    "ex1 = msg('Fulano de Tal')\n",
    "ex2 = msg('Fulano de Tal', 'idade = 33', 'profissão = professor')"
   ]
  },
  {
   "cell_type": "code",
   "execution_count": 10,
   "metadata": {
    "ExecuteTime": {
     "end_time": "2021-02-12T23:25:10.241506Z",
     "start_time": "2021-02-12T23:25:10.233512Z"
    }
   },
   "outputs": [
    {
     "name": "stdout",
     "output_type": "stream",
     "text": [
      "(33, 1987, 2020, 19.9, 100000000)\n",
      "{'Nome': 'Fulano de Tal', 'Profissão': 'Engenheiro'}\n"
     ]
    }
   ],
   "source": [
    "numeros = (33,1987,2020,19.90,100000000)\n",
    "dados = {'Nome': 'Fulano de Tal', 'Profissão': 'Engenheiro'}\n",
    "\n",
    "def identificacao(*args, **kwargs):\n",
    "    print(args)\n",
    "    print(kwargs)\n",
    "    \n",
    "identificacao(*numeros,**dados)"
   ]
  },
  {
   "cell_type": "code",
   "execution_count": 3,
   "metadata": {
    "ExecuteTime": {
     "end_time": "2021-02-13T23:58:46.278723Z",
     "start_time": "2021-02-13T23:58:46.272724Z"
    }
   },
   "outputs": [
    {
     "name": "stdout",
     "output_type": "stream",
     "text": [
      "0\n",
      "1\n",
      "2\n",
      "3\n",
      "4\n",
      "5\n"
     ]
    }
   ],
   "source": [
    "import sys\n",
    "\n",
    "def gera_numero():\n",
    "    numero = 0\n",
    "    while True:\n",
    "        yield numero\n",
    "        numero += 1\n",
    "gerador = gera_numero()\n",
    "\n",
    "print(next(gerador))\n",
    "print(next(gerador))\n",
    "print(next(gerador))\n",
    "print(next(gerador))\n",
    "print(next(gerador))\n",
    "print(next(gerador))"
   ]
  },
  {
   "cell_type": "code",
   "execution_count": 4,
   "metadata": {
    "ExecuteTime": {
     "end_time": "2021-02-14T00:51:59.936604Z",
     "start_time": "2021-02-14T00:51:59.602357Z"
    }
   },
   "outputs": [
    {
     "ename": "IndexError",
     "evalue": "list index out of range",
     "output_type": "error",
     "traceback": [
      "\u001b[1;31m---------------------------------------------------------------------------\u001b[0m",
      "\u001b[1;31mIndexError\u001b[0m                                Traceback (most recent call last)",
      "\u001b[1;32m<ipython-input-4-910e2c6060ef>\u001b[0m in \u001b[0;36m<module>\u001b[1;34m\u001b[0m\n\u001b[0;32m     10\u001b[0m \u001b[1;32mfor\u001b[0m \u001b[0mi\u001b[0m \u001b[1;32min\u001b[0m \u001b[0mrange\u001b[0m\u001b[1;33m(\u001b[0m\u001b[1;36m1\u001b[0m\u001b[1;33m,\u001b[0m\u001b[1;36m6\u001b[0m\u001b[1;33m)\u001b[0m\u001b[1;33m:\u001b[0m\u001b[1;33m\u001b[0m\u001b[1;33m\u001b[0m\u001b[0m\n\u001b[0;32m     11\u001b[0m     employees[\"employee\"+str(i)] = {\n\u001b[1;32m---> 12\u001b[1;33m         \u001b[1;34m\"firstName\"\u001b[0m\u001b[1;33m:\u001b[0m\u001b[0mfirstName\u001b[0m\u001b[1;33m[\u001b[0m\u001b[0mi\u001b[0m\u001b[1;33m+\u001b[0m\u001b[1;36m1\u001b[0m\u001b[1;33m]\u001b[0m\u001b[1;33m,\u001b[0m\u001b[1;33m\u001b[0m\u001b[1;33m\u001b[0m\u001b[0m\n\u001b[0m\u001b[0;32m     13\u001b[0m         \u001b[1;34m\"lastName\"\u001b[0m\u001b[1;33m:\u001b[0m\u001b[0mlastName\u001b[0m\u001b[1;33m[\u001b[0m\u001b[0mi\u001b[0m\u001b[1;33m+\u001b[0m\u001b[1;36m1\u001b[0m\u001b[1;33m]\u001b[0m\u001b[1;33m,\u001b[0m\u001b[1;33m\u001b[0m\u001b[1;33m\u001b[0m\u001b[0m\n\u001b[0;32m     14\u001b[0m         \u001b[1;34m\"age\"\u001b[0m\u001b[1;33m:\u001b[0m\u001b[0mage\u001b[0m\u001b[1;33m[\u001b[0m\u001b[0mi\u001b[0m\u001b[1;33m+\u001b[0m\u001b[1;36m1\u001b[0m\u001b[1;33m]\u001b[0m\u001b[1;33m,\u001b[0m\u001b[1;33m\u001b[0m\u001b[1;33m\u001b[0m\u001b[0m\n",
      "\u001b[1;31mIndexError\u001b[0m: list index out of range"
     ]
    }
   ],
   "source": [
    "firstName = [\"John\",\"George\",\"Rowan\", \"Ford\", \"Roberta\"]\n",
    "lastName = [\"Msaki\", \"Laurie\", \"Bean\",\"Harrison\",\"Meyers\"]\n",
    "age = [25,25,67,53,36]\n",
    "gender = [\"Male\",\"Male\",\"Female\",\"Male\",\"Female\"]\n",
    "position = [\"Security\",\"Messenger\",\"Receptionist\",\"Manager\",\"ChiefFinancial Officer\"]\n",
    "location = [\"Cleveland, Ohio\",\"San Francisco, California\", \"London, UK\",\"New york, New York\", \"Princeton, New Jersey\"]\n",
    "\n",
    "employees ={}\n",
    "\n",
    "for i in range(1,6):\n",
    "    employees[\"employee\"+str(i)] = {\n",
    "        \"firstName\":firstName[i+1],\n",
    "        \"lastName\":lastName[i+1],\n",
    "        \"age\":age[i+1],\n",
    "        \"gender\":gender[i+1],\n",
    "        \"position\":position[i+1],\n",
    "        \"location\":location[i+1]\n",
    "    }\n",
    "    \n",
    "for i in range(1,6):\n",
    "    x = \"employee\" + str(i)\n",
    "    print(\n",
    "        x+\":\"+\n",
    "        employees[x][\"firstName\"]+\",\"+\n",
    "        employees[x][\"lasttName\"]+\",\"+\n",
    "        str(employees[x][\"age\"])+\",\"+\n",
    "        employees[x][\"gender\"]+\",\"+\n",
    "        employees[x][\"position\"]+\",\"+\n",
    "        employees[x][\"location\"]\n",
    "    )"
   ]
  },
  {
   "cell_type": "code",
   "execution_count": null,
   "metadata": {},
   "outputs": [],
   "source": []
  }
 ],
 "metadata": {
  "kernelspec": {
   "display_name": "Python 3",
   "language": "python",
   "name": "python3"
  },
  "language_info": {
   "codemirror_mode": {
    "name": "ipython",
    "version": 3
   },
   "file_extension": ".py",
   "mimetype": "text/x-python",
   "name": "python",
   "nbconvert_exporter": "python",
   "pygments_lexer": "ipython3",
   "version": "3.8.5"
  }
 },
 "nbformat": 4,
 "nbformat_minor": 4
}

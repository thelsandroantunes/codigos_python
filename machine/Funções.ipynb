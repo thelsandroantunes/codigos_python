{
 "cells": [
  {
   "cell_type": "code",
   "execution_count": 5,
   "metadata": {
    "ExecuteTime": {
     "end_time": "2021-02-12T23:04:36.519116Z",
     "start_time": "2021-02-12T23:04:36.501128Z"
    }
   },
   "outputs": [
    {
     "name": "stdout",
     "output_type": "stream",
     "text": [
      "Fulano tem 18 anos, função: gerente\n"
     ]
    }
   ],
   "source": [
    "def pessoal(nome, idade = 18, funcao = 'técnico'):\n",
    "    print(f'{nome} tem {idade} anos, função: {funcao}')\n",
    "\n",
    "p1 = pessoal('Fulano', funcao = 'gerente')"
   ]
  },
  {
   "cell_type": "code",
   "execution_count": 6,
   "metadata": {
    "ExecuteTime": {
     "end_time": "2021-02-12T23:10:44.834887Z",
     "start_time": "2021-02-12T23:10:44.828889Z"
    }
   },
   "outputs": [
    {
     "name": "stdout",
     "output_type": "stream",
     "text": [
      "(nome) = ()\n",
      "(nome) = ('idade = 33', 'profissão = professor')\n"
     ]
    }
   ],
   "source": [
    "def msg(nome, *args):\n",
    "    print(f'(nome) = {args}')\n",
    "    \n",
    "ex1 = msg('Fulano de Tal')\n",
    "ex2 = msg('Fulano de Tal', 'idade = 33', 'profissão = professor')"
   ]
  },
  {
   "cell_type": "code",
   "execution_count": 10,
   "metadata": {
    "ExecuteTime": {
     "end_time": "2021-02-12T23:25:10.241506Z",
     "start_time": "2021-02-12T23:25:10.233512Z"
    }
   },
   "outputs": [
    {
     "name": "stdout",
     "output_type": "stream",
     "text": [
      "(33, 1987, 2020, 19.9, 100000000)\n",
      "{'Nome': 'Fulano de Tal', 'Profissão': 'Engenheiro'}\n"
     ]
    }
   ],
   "source": [
    "numeros = (33,1987,2020,19.90,100000000)\n",
    "dados = {'Nome': 'Fulano de Tal', 'Profissão': 'Engenheiro'}\n",
    "\n",
    "def identificacao(*args, **kwargs):\n",
    "    print(args)\n",
    "    print(kwargs)\n",
    "    \n",
    "identificacao(*numeros,**dados)"
   ]
  },
  {
   "cell_type": "code",
   "execution_count": null,
   "metadata": {},
   "outputs": [],
   "source": []
  }
 ],
 "metadata": {
  "kernelspec": {
   "display_name": "Python 3",
   "language": "python",
   "name": "python3"
  },
  "language_info": {
   "codemirror_mode": {
    "name": "ipython",
    "version": 3
   },
   "file_extension": ".py",
   "mimetype": "text/x-python",
   "name": "python",
   "nbconvert_exporter": "python",
   "pygments_lexer": "ipython3",
   "version": "3.8.5"
  }
 },
 "nbformat": 4,
 "nbformat_minor": 4
}
